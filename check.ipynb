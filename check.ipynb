{
 "cells": [
  {
   "attachments": {},
   "cell_type": "markdown",
   "metadata": {},
   "source": [
    "### 清空无效小文件代码"
   ]
  },
  {
   "cell_type": "code",
   "execution_count": 5,
   "metadata": {},
   "outputs": [
    {
     "name": "stdout",
     "output_type": "stream",
     "text": [
      "Total 10627\n",
      "Remove ./video/6804336928289262856.mp4\n",
      "Remove ./video/6717655219502648587.mp4\n",
      "Remove ./video/7056755222839872802.mp4\n",
      "Remove ./video/7090125423065025792.mp4\n",
      "Remove ./video/7127086230491204894.mp4\n",
      "Remove ./video/7159131149242043652.mp4\n",
      "Remove ./video/7174400019716508936.mp4\n",
      "Remove ./video/7101633929693777164.mp4\n"
     ]
    }
   ],
   "source": [
    "import os\n",
    "path='./video/'\n",
    "file_list=os.listdir(path)\n",
    "print(f'Total {len(file_list)}')\n",
    "for filepath in file_list:\n",
    "    if os.path.getsize(path+filepath)<1000:\n",
    "            os.remove(path+filepath)\n",
    "            print(f'Remove {path+filepath}')"
   ]
  },
  {
   "attachments": {},
   "cell_type": "markdown",
   "metadata": {},
   "source": [
    "### 核对文档记录数和视频数"
   ]
  },
  {
   "cell_type": "code",
   "execution_count": 1,
   "metadata": {},
   "outputs": [
    {
     "name": "stdout",
     "output_type": "stream",
     "text": [
      "文档总数 10573 文件总数 10628\n"
     ]
    }
   ],
   "source": [
    "import os\n",
    "import pandas as pd\n",
    "data1=pd.read_excel('/home/linjw/code2/gnn_study_crawler/backup/theme_record.xlsx',dtype=str)\n",
    "data1=data1.drop_duplicates(subset='aweme_id')\n",
    "data2=pd.read_excel('/home/linjw/code2/gnn_study_crawler/backup/total_record.xlsx',dtype=str)\n",
    "data2=data2.drop_duplicates(subset='aweme_id')\n",
    "data=pd.DataFrame(pd.concat([data1.aweme_id,data2.aweme_id])).drop_duplicates(subset='aweme_id')\n",
    "path='./video/'\n",
    "file_list=os.listdir(path)\n",
    "print('文档总数',len(set((data.aweme_id.astype(str)+'.mp4').values)),'视频总数',len(set(file_list)))"
   ]
  },
  {
   "attachments": {},
   "cell_type": "markdown",
   "metadata": {},
   "source": [
    "### 整理 删除记录里有的但是却没视频文件的(覆盖操作)"
   ]
  },
  {
   "cell_type": "code",
   "execution_count": 3,
   "metadata": {},
   "outputs": [],
   "source": [
    "delete_record_list=list(set((data.aweme_id.astype(str)+'.mp4').values)-set(file_list))\n",
    "delete_aweme_list=data[data['aweme_id'].isin([x.replace('.mp4','') for x in delete_record_list])]['aweme_id'].values\n",
    "theme_info=data1[~data1['aweme_id'].isin(delete_aweme_list)]\n",
    "total_info=data2[~data2['aweme_id'].isin(delete_aweme_list)]\n",
    "theme_info.to_excel('./backup/clean_theme_record.xlsx', engine=\"xlsxwriter\", encoding=\"utf-8\", index=False)\n",
    "total_info.to_excel('./backup/clean_total_record.xlsx', engine=\"xlsxwriter\", encoding=\"utf-8\", index=False)"
   ]
  },
  {
   "attachments": {},
   "cell_type": "markdown",
   "metadata": {},
   "source": [
    "### 评论数统计"
   ]
  },
  {
   "cell_type": "code",
   "execution_count": 1,
   "metadata": {},
   "outputs": [],
   "source": [
    "import pandas as pd\n",
    "data=pd.read_excel('./backup/comment_record.xlsx',dtype=str)\n",
    "print('主题数',len(data.drop_duplicates(subset='aweme_id',keep='first')),'总评论数',len(data.drop_duplicates(subset='cid',keep='first')),'每个主题平均',82972/4611)"
   ]
  },
  {
   "attachments": {},
   "cell_type": "markdown",
   "metadata": {},
   "source": [
    "#### 主题爬虫合并操作(合并帖子)"
   ]
  },
  {
   "cell_type": "code",
   "execution_count": 1,
   "metadata": {},
   "outputs": [],
   "source": [
    "import os\n",
    "import pandas as pd\n",
    "import numpy as np\n",
    "pd.set_option('display.max_columns', None)\n",
    "data1=pd.read_excel('/home/linjw/code2/gnn_study_crawler/backup/clean_theme_record.xlsx',dtype=str)\n",
    "data1=data1.drop_duplicates(subset='aweme_id')\n",
    "data2=pd.read_excel('/home/linjw/code2/gnn_study_crawler/backup/clean_total_record.xlsx',dtype=str)\n",
    "data2=data2.drop_duplicates(subset='aweme_id')\n",
    "data1=data1[~data1.aweme_id.isin(data2.aweme_id)]\n",
    "videoinfo=pd.read_excel('/home/linjw/code2/gnn_study_crawler/backup/videoinfo_record.xlsx',dtype=str)\n",
    "userinfo=pd.read_excel('/home/linjw/code2/gnn_study_crawler/backup/author_record.xlsx',dtype=str)\n",
    "result_list1=data2[['aweme_id', 'collect_count', 'create_time', 'desc',\n",
    "       'digg_count', 'duration', 'follower_count', 'gender',\n",
    "       'location', 'nickname', 'region',\n",
    "       'share_count','signature', 'uid','video_tag', 'keyword','comment_count']]\n",
    "result_list1.columns=['aweme_id', 'collect_count', 'create_time', 'desc',\n",
    "       'digg_count', 'duration', 'follower_count', 'gender',\n",
    "       'location', 'nickname', 'region','share_count','signature', 'uid','video_tag', 'keyword', 'comment_count']"
   ]
  },
  {
   "cell_type": "code",
   "execution_count": 2,
   "metadata": {},
   "outputs": [],
   "source": [
    "columns=['aweme_id','author_user_id','desc','duration','keyword','comment_number','nickname','uid','gender','following_count','follower_count','signature','location','collect_count', 'comment_count', 'digg_count', 'play_count','share_count','create_time','region','video_tag']\n",
    "result_list2=[]\n",
    "for idx,row in data1.iterrows():\n",
    "    try:\n",
    "       temp=row[['aweme_id','author_user_id','desc','duration','keyword','comment_number']].values\n",
    "       temp2=userinfo[userinfo['uid']==temp[1]][['nickname','uid','gender','following_count','follower_count','signature','ip_location']].head(1).values[0]\n",
    "       temp3=pd.DataFrame([eval(videoinfo[videoinfo['aweme_id']==row['aweme_id']]['statistics'].values[0])]).iloc[:,2:].values[0]\n",
    "       temp4=videoinfo[videoinfo['aweme_id']==row['aweme_id']][['create_time','region','video_tag']].values[0]\n",
    "       temp=np.append(temp,temp2)\n",
    "       temp=np.append(temp,temp3)\n",
    "       temp=np.append(temp,temp4)\n",
    "       result_list2.append(dict(zip(columns,temp)))\n",
    "    except:\n",
    "       pass\n",
    "result_list2=pd.DataFrame(result_list2)\n",
    "result_list2=result_list2[['aweme_id', 'collect_count', 'create_time', 'desc',\n",
    "       'digg_count', 'duration', 'follower_count', 'gender',\n",
    "       'location', 'nickname', 'region',\n",
    "       'share_count','signature', 'uid','video_tag', 'keyword', 'comment_count']]\n",
    "result_list2.columns=['aweme_id', 'collect_count', 'create_time', 'desc',\n",
    "       'digg_count', 'duration', 'follower_count', 'gender',\n",
    "       'location', 'nickname', 'region','share_count','signature', 'uid','video_tag', 'keyword', 'comment_count']\n",
    "result_list=pd.concat([result_list1,result_list2])\n",
    "result_list.drop_duplicates(subset='aweme_id')\n",
    "result_list.index=range(len(result_list))\n",
    "# result_list['comment_get']=0"
   ]
  },
  {
   "cell_type": "code",
   "execution_count": 3,
   "metadata": {},
   "outputs": [],
   "source": [
    "comment_data=pd.read_excel('./backup/comment_record.xlsx',dtype=str)\n",
    "comment_data=comment_data.drop_duplicates(subset='cid',keep='first')\n",
    "comment=pd.DataFrame([comment_data.value_counts('aweme_id').index,comment_data.value_counts('aweme_id').values]).T\n",
    "comment.columns=['aweme_id','comment_get']\n",
    "result_list=pd.merge(result_list,comment,on='aweme_id',how='outer').iloc[:10266]\n",
    "result_list.comment_get=result_list.comment_get.fillna(0)\n",
    "# result_list.to_excel('./backup/merge_record.xlsx', engine=\"xlsxwriter\", encoding=\"utf-8\", index=False)"
   ]
  },
  {
   "cell_type": "code",
   "execution_count": 5,
   "metadata": {},
   "outputs": [],
   "source": [
    "result_list.to_excel('./backup/merge_record.xlsx', engine=\"xlsxwriter\", encoding=\"utf-8\", index=False)"
   ]
  },
  {
   "attachments": {},
   "cell_type": "markdown",
   "metadata": {},
   "source": [
    "#### 筛选倾向词语"
   ]
  },
  {
   "cell_type": "code",
   "execution_count": 1,
   "metadata": {},
   "outputs": [],
   "source": [
    "### 可以利用神经网络文本意图（intent）识别,但是数据集只找到了英文的\n",
    "import pandas as pd\n",
    "data=pd.read_excel('./backup/comment_recoad_modify.xlsx',dtype=str)\n",
    "comment_pd=data[['aweme_id','text']]\n",
    "comment_pd=comment_pd.dropna()"
   ]
  },
  {
   "cell_type": "code",
   "execution_count": 2,
   "metadata": {},
   "outputs": [
    {
     "data": {
      "text/html": [
       "<div>\n",
       "<style scoped>\n",
       "    .dataframe tbody tr th:only-of-type {\n",
       "        vertical-align: middle;\n",
       "    }\n",
       "\n",
       "    .dataframe tbody tr th {\n",
       "        vertical-align: top;\n",
       "    }\n",
       "\n",
       "    .dataframe thead th {\n",
       "        text-align: right;\n",
       "    }\n",
       "</style>\n",
       "<table border=\"1\" class=\"dataframe\">\n",
       "  <thead>\n",
       "    <tr style=\"text-align: right;\">\n",
       "      <th></th>\n",
       "      <th>aweme_id</th>\n",
       "      <th>text</th>\n",
       "    </tr>\n",
       "  </thead>\n",
       "  <tbody>\n",
       "    <tr>\n",
       "      <th>4</th>\n",
       "      <td>6600163161221893379</td>\n",
       "      <td>认识你的第一个视频，这时候的你很棒，现在也要加油[奋斗]</td>\n",
       "    </tr>\n",
       "    <tr>\n",
       "      <th>6</th>\n",
       "      <td>6600163161221893379</td>\n",
       "      <td>你激励了我，我会像你学习好好努力！！[碰拳]</td>\n",
       "    </tr>\n",
       "    <tr>\n",
       "      <th>8</th>\n",
       "      <td>6600163161221893379</td>\n",
       "      <td>周哥从这里开始认识你</td>\n",
       "    </tr>\n",
       "    <tr>\n",
       "      <th>10</th>\n",
       "      <td>6600163161221893379</td>\n",
       "      <td>这真的是每一个爱篮球的男生想要的生活了</td>\n",
       "    </tr>\n",
       "    <tr>\n",
       "      <th>22</th>\n",
       "      <td>6600163161221893379</td>\n",
       "      <td>是我想要的生活了 难受</td>\n",
       "    </tr>\n",
       "    <tr>\n",
       "      <th>...</th>\n",
       "      <td>...</td>\n",
       "      <td>...</td>\n",
       "    </tr>\n",
       "    <tr>\n",
       "      <th>122884</th>\n",
       "      <td>7188361515379035404</td>\n",
       "      <td>虽然我也是热身 但我真不信评论区里有这么多[看]</td>\n",
       "    </tr>\n",
       "    <tr>\n",
       "      <th>122891</th>\n",
       "      <td>7188361515379035404</td>\n",
       "      <td>只能25[流泪][流泪][流泪] 30还需努力</td>\n",
       "    </tr>\n",
       "    <tr>\n",
       "      <th>122896</th>\n",
       "      <td>7188361515379035404</td>\n",
       "      <td>我要追求重量就去玩力量举，你体型倒是没练出来，力量确实相对你这个体型已经不错了</td>\n",
       "    </tr>\n",
       "    <tr>\n",
       "      <th>122899</th>\n",
       "      <td>7188361515379035404</td>\n",
       "      <td>30公斤，我感觉我受到了侮辱，要不是我听错了我还以为是30公斤侧平举呢。这里是抖音诶，30公...</td>\n",
       "    </tr>\n",
       "    <tr>\n",
       "      <th>122905</th>\n",
       "      <td>7188361515379035404</td>\n",
       "      <td>不是吧 30kg还要助力带</td>\n",
       "    </tr>\n",
       "  </tbody>\n",
       "</table>\n",
       "<p>18473 rows × 2 columns</p>\n",
       "</div>"
      ],
      "text/plain": [
       "                   aweme_id                                               text\n",
       "4       6600163161221893379                       认识你的第一个视频，这时候的你很棒，现在也要加油[奋斗]\n",
       "6       6600163161221893379                             你激励了我，我会像你学习好好努力！！[碰拳]\n",
       "8       6600163161221893379                                         周哥从这里开始认识你\n",
       "10      6600163161221893379                                这真的是每一个爱篮球的男生想要的生活了\n",
       "22      6600163161221893379                                        是我想要的生活了 难受\n",
       "...                     ...                                                ...\n",
       "122884  7188361515379035404                           虽然我也是热身 但我真不信评论区里有这么多[看]\n",
       "122891  7188361515379035404                            只能25[流泪][流泪][流泪] 30还需努力\n",
       "122896  7188361515379035404            我要追求重量就去玩力量举，你体型倒是没练出来，力量确实相对你这个体型已经不错了\n",
       "122899  7188361515379035404  30公斤，我感觉我受到了侮辱，要不是我听错了我还以为是30公斤侧平举呢。这里是抖音诶，30公...\n",
       "122905  7188361515379035404                                      不是吧 30kg还要助力带\n",
       "\n",
       "[18473 rows x 2 columns]"
      ]
     },
     "execution_count": 2,
     "metadata": {},
     "output_type": "execute_result"
    }
   ],
   "source": [
    "intent_word='|'.join(['要','想','我也','一起','想问','开始','一定','跟着','运动','坚持','愿意','计划','行动','努力'])\n",
    "# intent_word='|'.join(['愿意','计划','行动','努力'])\n",
    "select_intent_pd=comment_pd[comment_pd.text.str.contains(intent_word)]\n",
    "select_intent_pd"
   ]
  },
  {
   "cell_type": "code",
   "execution_count": 3,
   "metadata": {},
   "outputs": [],
   "source": [
    "merge_data=pd.read_excel('/home/linjw/code2/gnn_study_crawler/backup/arousal_record.xlsx',dtype=str)\n",
    "intention_pd=pd.DataFrame([select_intent_pd['aweme_id'].value_counts().index,select_intent_pd['aweme_id'].value_counts().values]).T\n",
    "merge_data=merge_data.drop('intention_counts',axis=1)\n",
    "intention_pd.columns=['aweme_id','intention_counts']\n",
    "result_list=pd.merge(merge_data,intention_pd,on='aweme_id')\n",
    "result_list.columns\n",
    "# coment_counter=pd.read_excel('./backup/merge_record.xlsx', dtype=str)\n",
    "# result_list=pd.merge(result_list,coment_counter[['aweme_id','comment_count']],on='aweme_id')\n",
    "result_list=result_list.drop('comment_get',axis=1)\n",
    "comment_info=pd.DataFrame([comment_pd.value_counts('aweme_id').index,comment_pd.value_counts('aweme_id').values]).T\n",
    "comment_info.columns=['aweme_id','comment_get']\n",
    "result_list=pd.merge(result_list,comment_info,on='aweme_id',how='inner')\n",
    "result_list.comment_get=result_list.comment_get.fillna(0)\n",
    "result_list=result_list[['aweme_id', 'collect_count', 'create_time', 'desc', 'digg_count',\n",
    "       'duration', 'follower_count', 'gender', 'location', 'nickname',\n",
    "       'region', 'share_count', 'signature', 'uid', 'video_tag', 'keyword',\n",
    "       'comment_count', 'comment_get', 'variation', 'arousal',\n",
    "       'intention_counts']]\n",
    "result_list.to_excel('./backup/arousal_record_modify.xlsx', engine=\"xlsxwriter\", encoding=\"utf-8\", index=False)"
   ]
  },
  {
   "cell_type": "code",
   "execution_count": 6,
   "metadata": {},
   "outputs": [
    {
     "data": {
      "text/plain": [
       "68    4\n",
       "Name: comment_get, dtype: int64"
      ]
     },
     "execution_count": 6,
     "metadata": {},
     "output_type": "execute_result"
    }
   ],
   "source": [
    "result_list[result_list['aweme_id']=='7180952968378780988'].comment_get"
   ]
  },
  {
   "cell_type": "code",
   "execution_count": 9,
   "metadata": {},
   "outputs": [
    {
     "data": {
      "text/plain": [
       "68    1\n",
       "Name: intention_counts, dtype: object"
      ]
     },
     "execution_count": 9,
     "metadata": {},
     "output_type": "execute_result"
    }
   ],
   "source": [
    "result_list[result_list['aweme_id']=='7180952968378780988'].intention_counts"
   ]
  },
  {
   "cell_type": "code",
   "execution_count": 10,
   "metadata": {},
   "outputs": [
    {
     "data": {
      "text/plain": [
       "68    1\n",
       "Name: intention_counts, dtype: object"
      ]
     },
     "execution_count": 10,
     "metadata": {},
     "output_type": "execute_result"
    }
   ],
   "source": [
    "result_list[result_list['aweme_id']=='7180952968378780988'].intention_counts"
   ]
  },
  {
   "cell_type": "code",
   "execution_count": null,
   "metadata": {},
   "outputs": [],
   "source": [
    "# TODO 博主ID 有用户信息 选粉丝数多的 选减肥vlog 因为他是热播"
   ]
  }
 ],
 "metadata": {
  "kernelspec": {
   "display_name": "scrapy",
   "language": "python",
   "name": "python3"
  },
  "language_info": {
   "codemirror_mode": {
    "name": "ipython",
    "version": 3
   },
   "file_extension": ".py",
   "mimetype": "text/x-python",
   "name": "python",
   "nbconvert_exporter": "python",
   "pygments_lexer": "ipython3",
   "version": "3.7.13"
  },
  "orig_nbformat": 4,
  "vscode": {
   "interpreter": {
    "hash": "ad7a1fbfe381e46b0f3b9a820daa81600bcc600b342b498233523bb6680d89ae"
   }
  }
 },
 "nbformat": 4,
 "nbformat_minor": 2
}
