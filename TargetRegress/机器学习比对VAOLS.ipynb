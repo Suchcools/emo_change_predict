{
 "cells": [
  {
   "cell_type": "code",
   "execution_count": 1,
   "metadata": {},
   "outputs": [],
   "source": [
    "import pandas as pd\n",
    "# coding: UTF-8\n",
    "import time\n",
    "import torch\n",
    "import warnings \n",
    "warnings.filterwarnings(\"ignore\")\n",
    "import numpy as np\n",
    "import torch.utils.data as data\n",
    "from sklearn.preprocessing import LabelEncoder\n",
    "from sklearn.metrics import r2_score\n",
    "from torch.utils.data import SubsetRandomSampler\n",
    "from xgboost import XGBRegressor\n",
    "from sklearn.preprocessing import MinMaxScaler\n",
    "from sklearn import preprocessing\n",
    "from units import *"
   ]
  },
  {
   "attachments": {},
   "cell_type": "markdown",
   "metadata": {},
   "source": [
    "### 数据预处理"
   ]
  },
  {
   "cell_type": "code",
   "execution_count": 2,
   "metadata": {},
   "outputs": [],
   "source": [
    "save='./统计指标2/6/'\n",
    "rawdata=pd.read_excel(\"../backup/arousal_record.xlsx\")\n",
    "rawdata=rawdata[['aweme_id','collect_count','create_time','digg_count','duration','follower_count','gender','share_count','keyword','comment_get','comment_count','intention_counts','variation','arousal']]\n",
    "rawdata=rawdata[rawdata['variation'].notna()]\n",
    "rawdata=rawdata[rawdata['arousal'].notna()]\n",
    "def keyword_encode(keyword):\n",
    "    if \"运动\" in keyword:\n",
    "        return 0\n",
    "    elif \"健身\" in keyword:\n",
    "        return 1\n",
    "    elif \"减肥\" in keyword:\n",
    "        return 2\n",
    "    elif \"自律\" in keyword:\n",
    "        return 3\n",
    "rawdata['keyword']=rawdata['keyword'].apply(keyword_encode) # 非数字编码\n",
    "rawdata.fillna(0) # 空值填充0\n",
    "rawdata['intention_counts']=rawdata['intention_counts']/rawdata['comment_get']\n",
    "rawdata.drop('comment_get',axis=1)\n",
    "columns=['aweme_id','collect_count', 'create_time','duration',\n",
    "       'follower_count', 'gender', 'share_count', 'keyword','comment_count',\n",
    "        'variation', 'arousal' ,'V*A','digg_count', 'intention_counts']\n",
    "rawdata['V*A']=rawdata['variation']*rawdata['arousal']\n",
    "rawdata=rawdata[columns]\n",
    "select_num=220\n",
    "select_pd=pd.DataFrame()\n",
    "select_pd=select_pd.append(rawdata.sort_values(by=['variation','arousal'],ascending=[False,False]).head(select_num),ignore_index=True)\n",
    "select_pd=select_pd.append(rawdata.sort_values(by=['arousal','variation'],ascending=[False,False]).head(select_num),ignore_index=True)\n",
    "select_pd=select_pd.append(rawdata.sort_values(by=['variation','arousal'],ascending=[True,False]).head(select_num),ignore_index=True)\n",
    "select_pd=select_pd.append(rawdata.sort_values(by=['arousal','variation'],ascending=[True,False]).head(select_num),ignore_index=True)\n",
    "rawdata=select_pd.drop_duplicates('aweme_id')\n",
    "columns=['collect_count', 'create_time','duration',\n",
    "       'follower_count', 'gender', 'share_count', 'keyword','comment_count',\n",
    "        'variation',\n",
    "         'arousal',\n",
    "         'V*A',\n",
    "         'digg_count', 'intention_counts']\n",
    "rawdata=rawdata[columns]"
   ]
  },
  {
   "attachments": {},
   "cell_type": "markdown",
   "metadata": {},
   "source": [
    "### 数据归一化"
   ]
  },
  {
   "cell_type": "code",
   "execution_count": 3,
   "metadata": {},
   "outputs": [],
   "source": [
    "scaler = MinMaxScaler() #实例化\n",
    "rawdata = scaler.fit_transform(rawdata) #fit，在这里本质是生成min(x)和max(x)\n",
    "rawdata = pd.DataFrame(rawdata,columns=columns)\n",
    "rawdata=rawdata.fillna(0)"
   ]
  },
  {
   "cell_type": "code",
   "execution_count": 4,
   "metadata": {},
   "outputs": [],
   "source": [
    "X,y=rawdata.iloc[:,:-2].values, rawdata.iloc[:,-1]"
   ]
  },
  {
   "attachments": {},
   "cell_type": "markdown",
   "metadata": {},
   "source": [
    "### 划分数据集"
   ]
  },
  {
   "cell_type": "code",
   "execution_count": 5,
   "metadata": {},
   "outputs": [
    {
     "name": "stdout",
     "output_type": "stream",
     "text": [
      "                            OLS Regression Results                            \n",
      "==============================================================================\n",
      "Dep. Variable:       intention_counts   R-squared:                       0.034\n",
      "Model:                            OLS   Adj. R-squared:                  0.021\n",
      "Method:                 Least Squares   F-statistic:                     2.592\n",
      "Date:                Sat, 11 Feb 2023   Prob (F-statistic):            0.00305\n",
      "Time:                        14:46:26   Log-Likelihood:                 673.24\n",
      "No. Observations:                 813   AIC:                            -1322.\n",
      "Df Residuals:                     801   BIC:                            -1266.\n",
      "Df Model:                          11                                         \n",
      "Covariance Type:            nonrobust                                         \n",
      "==============================================================================\n",
      "                 coef    std err          t      P>|t|      [0.025      0.975]\n",
      "------------------------------------------------------------------------------\n",
      "const          0.1345      0.066      2.036      0.042       0.005       0.264\n",
      "x1             0.2511      0.250      1.005      0.315      -0.240       0.742\n",
      "x2            -0.0229      0.022     -1.042      0.298      -0.066       0.020\n",
      "x3             0.0155      0.040      0.388      0.698      -0.063       0.094\n",
      "x4            -0.1367      0.040     -3.379      0.001      -0.216      -0.057\n",
      "x5             0.0054      0.010      0.550      0.582      -0.014       0.025\n",
      "x6            -0.2771      0.278     -0.995      0.320      -0.824       0.269\n",
      "x7             0.0318      0.013      2.370      0.018       0.005       0.058\n",
      "x8             0.0245      0.055      0.443      0.658      -0.084       0.133\n",
      "x9             0.0358      0.082      0.437      0.662      -0.125       0.197\n",
      "x10            0.0320      0.023      1.373      0.170      -0.014       0.078\n",
      "x11           -0.0164      0.094     -0.175      0.861      -0.200       0.167\n",
      "==============================================================================\n",
      "Omnibus:                      548.525   Durbin-Watson:                   1.916\n",
      "Prob(Omnibus):                  0.000   Jarque-Bera (JB):            10347.088\n",
      "Skew:                           2.773   Prob(JB):                         0.00\n",
      "Kurtosis:                      19.574   Cond. No.                         162.\n",
      "==============================================================================\n",
      "\n",
      "Notes:\n",
      "[1] Standard Errors assume that the covariance matrix of the errors is correctly specified.\n"
     ]
    },
    {
     "data": {
      "image/png": "[encoded data removed]",
      "text/plain": [
       "<Figure size 432x288 with 1 Axes>"
      ]
     },
     "metadata": {
      "needs_background": "light"
     },
     "output_type": "display_data"
    }
   ],
   "source": [
    "import matplotlib.pyplot as plt\n",
    "import statsmodels.api as sm\n",
    "\n",
    "# 添加常数项，并计算回归模型\n",
    "X = sm.add_constant(X)\n",
    "model = sm.OLS(y, X).fit()\n",
    "# model.params.index = ['const'] + X_vars\n",
    "# 打印回归模型的结果\n",
    "path2 = save+'table.txt'\n",
    "file2 = open(path2,'w+')\n",
    "file2.write(str(model.summary()))\n",
    "file2.close()\n",
    "print(model.summary())\n",
    "\n",
    "# 绘制回归模型\n",
    "plt.plot(X[:, 1], y, 'o', label='data points')\n",
    "plt.plot(X[:, 1], model.predict(X), 'r', label='regression model')\n",
    "plt.legend()\n",
    "plt.savefig(save+'regression.png')\n",
    "plt.show()\n"
   ]
  },
  {
   "cell_type": "code",
   "execution_count": null,
   "metadata": {},
   "outputs": [],
   "source": []
  },
  {
   "cell_type": "code",
   "execution_count": 7,
   "metadata": {},
   "outputs": [],
   "source": [
    "rawdata.to_csv('detail_item.csv',index=False,encoding='utf_8_sig')"
   ]
  },
  {
   "cell_type": "code",
   "execution_count": null,
   "metadata": {},
   "outputs": [],
   "source": []
  }
 ],
 "metadata": {
  "kernelspec": {
   "display_name": "biobase",
   "language": "python",
   "name": "python3"
  },
  "language_info": {
   "codemirror_mode": {
    "name": "ipython",
    "version": 3
   },
   "file_extension": ".py",
   "mimetype": "text/x-python",
   "name": "python",
   "nbconvert_exporter": "python",
   "pygments_lexer": "ipython3",
   "version": "3.9.12"
  },
  "orig_nbformat": 4,
  "vscode": {
   "interpreter": {
    "hash": "c4342b7b77d03aa170c0061ccc2d89deb9ee932a6281860c89ed54b64e098c02"
   }
  }
 },
 "nbformat": 4,
 "nbformat_minor": 2
}
