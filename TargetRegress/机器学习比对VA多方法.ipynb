{
 "cells": [
  {
   "cell_type": "code",
   "execution_count": 1,
   "metadata": {},
   "outputs": [],
   "source": [
    "import pandas as pd\n",
    "# coding: UTF-8\n",
    "import time\n",
    "import torch\n",
    "import warnings \n",
    "warnings.filterwarnings(\"ignore\")\n",
    "import numpy as np\n",
    "import torch.utils.data as data\n",
    "from sklearn.preprocessing import LabelEncoder\n",
    "from sklearn.metrics import r2_score\n",
    "from torch.utils.data import SubsetRandomSampler\n",
    "from xgboost import XGBRegressor\n",
    "from sklearn.preprocessing import MinMaxScaler\n",
    "from sklearn import preprocessing\n",
    "from units import *"
   ]
  },
  {
   "attachments": {},
   "cell_type": "markdown",
   "metadata": {},
   "source": [
    "### 数据预处理"
   ]
  },
  {
   "cell_type": "code",
   "execution_count": 2,
   "metadata": {},
   "outputs": [],
   "source": [
    "save='./统计指标/1/'\n",
    "rawdata=pd.read_excel(\"../backup/arousal_record.xlsx\")\n",
    "rawdata=rawdata[['aweme_id','collect_count','create_time','digg_count','duration','follower_count','gender','share_count','keyword','comment_get','comment_count','intention_counts','variation','arousal']]\n",
    "rawdata=rawdata[rawdata['variation'].notna()]\n",
    "rawdata=rawdata[rawdata['arousal'].notna()]\n",
    "def keyword_encode(keyword):\n",
    "    if \"运动\" in keyword:\n",
    "        return 0\n",
    "    elif \"健身\" in keyword:\n",
    "        return 1\n",
    "    elif \"减肥\" in keyword:\n",
    "        return 2\n",
    "    elif \"自律\" in keyword:\n",
    "        return 3\n",
    "rawdata['keyword']=rawdata['keyword'].apply(keyword_encode) # 非数字编码\n",
    "rawdata.fillna(0) # 空值填充0\n",
    "rawdata['intention_counts']=rawdata['intention_counts']/rawdata['comment_get']\n",
    "rawdata.drop('comment_get',axis=1)\n",
    "columns=['aweme_id','collect_count', 'create_time','duration',\n",
    "       'follower_count', 'gender', 'share_count', 'keyword','comment_count',\n",
    "        'variation', 'arousal' ,'V*A','digg_count', 'intention_counts']\n",
    "rawdata['V*A']=rawdata['variation']*rawdata['arousal']\n",
    "rawdata=rawdata[columns]\n",
    "select_num=220\n",
    "select_pd=pd.DataFrame()\n",
    "select_pd=select_pd.append(rawdata.sort_values(by=['variation','arousal'],ascending=[False,False]).head(select_num),ignore_index=True)\n",
    "select_pd=select_pd.append(rawdata.sort_values(by=['arousal','variation'],ascending=[False,False]).head(select_num),ignore_index=True)\n",
    "select_pd=select_pd.append(rawdata.sort_values(by=['variation','arousal'],ascending=[True,False]).head(select_num),ignore_index=True)\n",
    "select_pd=select_pd.append(rawdata.sort_values(by=['arousal','variation'],ascending=[True,False]).head(select_num),ignore_index=True)\n",
    "rawdata=select_pd.drop_duplicates('aweme_id')\n",
    "columns=['collect_count', 'create_time','duration',\n",
    "       'follower_count', 'gender', 'share_count', 'keyword','comment_count',\n",
    "        # 'variation',\n",
    "        #  'arousal',\n",
    "        #  'V*A',\n",
    "         'digg_count', 'intention_counts']\n",
    "rawdata=rawdata[columns]"
   ]
  },
  {
   "attachments": {},
   "cell_type": "markdown",
   "metadata": {},
   "source": [
    "### 数据归一化"
   ]
  },
  {
   "cell_type": "code",
   "execution_count": 3,
   "metadata": {},
   "outputs": [],
   "source": [
    "scaler = MinMaxScaler() #实例化\n",
    "rawdata = scaler.fit_transform(rawdata) #fit，在这里本质是生成min(x)和max(x)\n",
    "rawdata = pd.DataFrame(rawdata,columns=columns)\n",
    "rawdata=rawdata.fillna(0)"
   ]
  },
  {
   "attachments": {},
   "cell_type": "markdown",
   "metadata": {},
   "source": [
    "### 划分数据集"
   ]
  },
  {
   "cell_type": "code",
   "execution_count": 4,
   "metadata": {},
   "outputs": [
    {
     "name": "stdout",
     "output_type": "stream",
     "text": [
      "0.5914943161703268\n"
     ]
    }
   ],
   "source": [
    "                                 \n",
    "X_train, X_test, y_train, y_test = train_test_split(rawdata.iloc[:,:-2], rawdata.iloc[:,-2], test_size=0.20,random_state=12)\n",
    "model = XGBRegressor()\n",
    "model.fit(X_train,y_train)\n",
    "scores = model.score(X_test,y_test)\n",
    "print(scores)           \n",
    "y_pred=model.predict(X_test)                              "
   ]
  },
  {
   "cell_type": "code",
   "execution_count": 5,
   "metadata": {},
   "outputs": [
    {
     "data": {
      "image/png": "[encoded data removed]",
      "text/plain": [
       "<Figure size 1080x360 with 1 Axes>"
      ]
     },
     "metadata": {
      "needs_background": "light"
     },
     "output_type": "display_data"
    }
   ],
   "source": [
    "# 获取feature importance\n",
    "import matplotlib.pyplot as plt\n",
    "cols=rawdata.iloc[:,:-2].columns\n",
    "plt.figure(figsize=(15, 5))\n",
    "plt.bar(range(len(cols)), model.feature_importances_)\n",
    "pd.DataFrame()\n",
    "plt.xticks(range(len(cols)), cols, rotation=-45, fontsize=14)\n",
    "plt.title('Feature importance', fontsize=14)\n",
    "plt.savefig(save+'feature_importance.png')\n",
    "plt.show()"
   ]
  },
  {
   "cell_type": "code",
   "execution_count": 6,
   "metadata": {},
   "outputs": [
    {
     "data": {
      "text/html": [
       "<div>\n",
       "<style scoped>\n",
       "    .dataframe tbody tr th:only-of-type {\n",
       "        vertical-align: middle;\n",
       "    }\n",
       "\n",
       "    .dataframe tbody tr th {\n",
       "        vertical-align: top;\n",
       "    }\n",
       "\n",
       "    .dataframe thead th {\n",
       "        text-align: right;\n",
       "    }\n",
       "</style>\n",
       "<table border=\"1\" class=\"dataframe\">\n",
       "  <thead>\n",
       "    <tr style=\"text-align: right;\">\n",
       "      <th></th>\n",
       "      <th>collect_count</th>\n",
       "      <th>create_time</th>\n",
       "      <th>duration</th>\n",
       "      <th>follower_count</th>\n",
       "      <th>gender</th>\n",
       "      <th>share_count</th>\n",
       "      <th>keyword</th>\n",
       "      <th>comment_count</th>\n",
       "    </tr>\n",
       "  </thead>\n",
       "  <tbody>\n",
       "    <tr>\n",
       "      <th>0</th>\n",
       "      <td>0.182063</td>\n",
       "      <td>0.076942</td>\n",
       "      <td>0.008964</td>\n",
       "      <td>0.077649</td>\n",
       "      <td>0.005454</td>\n",
       "      <td>0.020526</td>\n",
       "      <td>0.021991</td>\n",
       "      <td>0.606409</td>\n",
       "    </tr>\n",
       "  </tbody>\n",
       "</table>\n",
       "</div>"
      ],
      "text/plain": [
       "   collect_count  create_time  duration  follower_count    gender  \\\n",
       "0       0.182063     0.076942  0.008964        0.077649  0.005454   \n",
       "\n",
       "   share_count   keyword  comment_count  \n",
       "0     0.020526  0.021991       0.606409  "
      ]
     },
     "execution_count": 6,
     "metadata": {},
     "output_type": "execute_result"
    }
   ],
   "source": [
    "imp=pd.DataFrame(model.feature_importances_,index=cols).T\n",
    "imp"
   ]
  },
  {
   "cell_type": "code",
   "execution_count": 7,
   "metadata": {},
   "outputs": [
    {
     "data": {
      "image/png": "[encoded data removed]",
      "text/plain": [
       "<Figure size 576x338.4 with 2 Axes>"
      ]
     },
     "metadata": {
      "needs_background": "light"
     },
     "output_type": "display_data"
    }
   ],
   "source": [
    "import shap\n",
    "plt.figure(figsize=(6, 5))\n",
    "explainer = shap.TreeExplainer(model)\n",
    "shap_values = explainer.shap_values(rawdata.iloc[:,:-2][cols])\n",
    "y_base = explainer.expected_value \n",
    "shap.summary_plot(shap_values, rawdata.iloc[:,:-2][cols],show=False)\n",
    "plt.savefig(save+'shap.png')"
   ]
  },
  {
   "cell_type": "code",
   "execution_count": 8,
   "metadata": {},
   "outputs": [
    {
     "data": {
      "text/html": [
       "<div>\n",
       "<style scoped>\n",
       "    .dataframe tbody tr th:only-of-type {\n",
       "        vertical-align: middle;\n",
       "    }\n",
       "\n",
       "    .dataframe tbody tr th {\n",
       "        vertical-align: top;\n",
       "    }\n",
       "\n",
       "    .dataframe thead th {\n",
       "        text-align: right;\n",
       "    }\n",
       "</style>\n",
       "<table border=\"1\" class=\"dataframe\">\n",
       "  <thead>\n",
       "    <tr style=\"text-align: right;\">\n",
       "      <th></th>\n",
       "      <th>feature</th>\n",
       "      <th>shap_value</th>\n",
       "    </tr>\n",
       "  </thead>\n",
       "  <tbody>\n",
       "    <tr>\n",
       "      <th>0</th>\n",
       "      <td>collect_count</td>\n",
       "      <td>0.005730</td>\n",
       "    </tr>\n",
       "    <tr>\n",
       "      <th>1</th>\n",
       "      <td>create_time</td>\n",
       "      <td>0.013340</td>\n",
       "    </tr>\n",
       "    <tr>\n",
       "      <th>2</th>\n",
       "      <td>duration</td>\n",
       "      <td>-0.000176</td>\n",
       "    </tr>\n",
       "    <tr>\n",
       "      <th>3</th>\n",
       "      <td>follower_count</td>\n",
       "      <td>0.003028</td>\n",
       "    </tr>\n",
       "    <tr>\n",
       "      <th>4</th>\n",
       "      <td>gender</td>\n",
       "      <td>0.000908</td>\n",
       "    </tr>\n",
       "    <tr>\n",
       "      <th>5</th>\n",
       "      <td>share_count</td>\n",
       "      <td>0.001694</td>\n",
       "    </tr>\n",
       "    <tr>\n",
       "      <th>6</th>\n",
       "      <td>keyword</td>\n",
       "      <td>0.002240</td>\n",
       "    </tr>\n",
       "    <tr>\n",
       "      <th>7</th>\n",
       "      <td>comment_count</td>\n",
       "      <td>0.019668</td>\n",
       "    </tr>\n",
       "  </tbody>\n",
       "</table>\n",
       "</div>"
      ],
      "text/plain": [
       "          feature  shap_value\n",
       "0   collect_count    0.005730\n",
       "1     create_time    0.013340\n",
       "2        duration   -0.000176\n",
       "3  follower_count    0.003028\n",
       "4          gender    0.000908\n",
       "5     share_count    0.001694\n",
       "6         keyword    0.002240\n",
       "7   comment_count    0.019668"
      ]
     },
     "execution_count": 8,
     "metadata": {},
     "output_type": "execute_result"
    }
   ],
   "source": [
    "j = len(imp)\n",
    "player_explainer = pd.DataFrame()\n",
    "player_explainer['feature'] = cols\n",
    "player_explainer['shap_value'] = shap_values[j]\n",
    "player_explainer\n"
   ]
  },
  {
   "cell_type": "code",
   "execution_count": 9,
   "metadata": {},
   "outputs": [
    {
     "data": {
      "text/html": [
       "<div>\n",
       "<style scoped>\n",
       "    .dataframe tbody tr th:only-of-type {\n",
       "        vertical-align: middle;\n",
       "    }\n",
       "\n",
       "    .dataframe tbody tr th {\n",
       "        vertical-align: top;\n",
       "    }\n",
       "\n",
       "    .dataframe thead th {\n",
       "        text-align: right;\n",
       "    }\n",
       "</style>\n",
       "<table border=\"1\" class=\"dataframe\">\n",
       "  <thead>\n",
       "    <tr style=\"text-align: right;\">\n",
       "      <th></th>\n",
       "      <th>feature</th>\n",
       "      <th>shap_value</th>\n",
       "      <th>XGB_importance</th>\n",
       "    </tr>\n",
       "  </thead>\n",
       "  <tbody>\n",
       "    <tr>\n",
       "      <th>0</th>\n",
       "      <td>collect_count</td>\n",
       "      <td>0.005730</td>\n",
       "      <td>0.182063</td>\n",
       "    </tr>\n",
       "    <tr>\n",
       "      <th>1</th>\n",
       "      <td>create_time</td>\n",
       "      <td>0.013340</td>\n",
       "      <td>0.076942</td>\n",
       "    </tr>\n",
       "    <tr>\n",
       "      <th>2</th>\n",
       "      <td>duration</td>\n",
       "      <td>-0.000176</td>\n",
       "      <td>0.008964</td>\n",
       "    </tr>\n",
       "    <tr>\n",
       "      <th>3</th>\n",
       "      <td>follower_count</td>\n",
       "      <td>0.003028</td>\n",
       "      <td>0.077649</td>\n",
       "    </tr>\n",
       "    <tr>\n",
       "      <th>4</th>\n",
       "      <td>gender</td>\n",
       "      <td>0.000908</td>\n",
       "      <td>0.005454</td>\n",
       "    </tr>\n",
       "    <tr>\n",
       "      <th>5</th>\n",
       "      <td>share_count</td>\n",
       "      <td>0.001694</td>\n",
       "      <td>0.020526</td>\n",
       "    </tr>\n",
       "    <tr>\n",
       "      <th>6</th>\n",
       "      <td>keyword</td>\n",
       "      <td>0.002240</td>\n",
       "      <td>0.021991</td>\n",
       "    </tr>\n",
       "    <tr>\n",
       "      <th>7</th>\n",
       "      <td>comment_count</td>\n",
       "      <td>0.019668</td>\n",
       "      <td>0.606409</td>\n",
       "    </tr>\n",
       "  </tbody>\n",
       "</table>\n",
       "</div>"
      ],
      "text/plain": [
       "          feature  shap_value  XGB_importance\n",
       "0   collect_count    0.005730        0.182063\n",
       "1     create_time    0.013340        0.076942\n",
       "2        duration   -0.000176        0.008964\n",
       "3  follower_count    0.003028        0.077649\n",
       "4          gender    0.000908        0.005454\n",
       "5     share_count    0.001694        0.020526\n",
       "6         keyword    0.002240        0.021991\n",
       "7   comment_count    0.019668        0.606409"
      ]
     },
     "execution_count": 9,
     "metadata": {},
     "output_type": "execute_result"
    }
   ],
   "source": [
    "player_explainer['XGB_importance']=imp.iloc[0].values\n",
    "player_explainer.to_csv(save+'import_tabel.csv',index=False,encoding='utf_8_sig')\n",
    "player_explainer"
   ]
  },
  {
   "cell_type": "code",
   "execution_count": 10,
   "metadata": {},
   "outputs": [
    {
     "name": "stdout",
     "output_type": "stream",
     "text": [
      "  Metric     Value\n",
      "0    MAE  0.007614\n",
      "1    MSE  0.002911\n",
      "2   RMSE  0.053954\n",
      "3    EVS  0.592842\n",
      "4     R2  0.591494\n"
     ]
    }
   ],
   "source": [
    "import numpy as np\n",
    "from sklearn.metrics import mean_absolute_error, mean_squared_error, explained_variance_score, r2_score\n",
    "\n",
    "y_true = y_test\n",
    "\n",
    "mae = mean_absolute_error(y_true, y_pred)\n",
    "mse = mean_squared_error(y_true, y_pred)\n",
    "rmse = np.sqrt(mse)\n",
    "evs = explained_variance_score(y_true, y_pred)\n",
    "r2 = r2_score(y_true, y_pred)\n",
    "\n",
    "metrics = {'MAE': mae, 'MSE': mse, 'RMSE': rmse, 'EVS': evs, 'R2': r2}\n",
    "\n",
    "df = pd.DataFrame(list(metrics.items()), columns=['Metric', 'Value'])\n",
    "df.to_csv(save+'Metric.csv',index=False,encoding='utf_8_sig')\n",
    "print(df)"
   ]
  },
  {
   "cell_type": "code",
   "execution_count": null,
   "metadata": {},
   "outputs": [],
   "source": []
  }
 ],
 "metadata": {
  "kernelspec": {
   "display_name": "biobase",
   "language": "python",
   "name": "python3"
  },
  "language_info": {
   "codemirror_mode": {
    "name": "ipython",
    "version": 3
   },
   "file_extension": ".py",
   "mimetype": "text/x-python",
   "name": "python",
   "nbconvert_exporter": "python",
   "pygments_lexer": "ipython3",
   "version": "3.9.12"
  },
  "orig_nbformat": 4,
  "vscode": {
   "interpreter": {
    "hash": "c4342b7b77d03aa170c0061ccc2d89deb9ee932a6281860c89ed54b64e098c02"
   }
  }
 },
 "nbformat": 4,
 "nbformat_minor": 2
}
