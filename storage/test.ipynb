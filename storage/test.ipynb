{
 "cells": [
  {
   "cell_type": "code",
   "execution_count": 17,
   "metadata": {},
   "outputs": [],
   "source": [
    "from loguru import logger\n",
    "import requests\n",
    "import pandas as pd\n",
    "import sys\n",
    "from units import download_by_addr\n",
    "import warnings\n",
    "import configparser\n",
    "warnings.filterwarnings(\"ignore\")\n",
    "# 读取配置文件\n",
    "def getConfig(section, option):\n",
    "    \"\"\"\n",
    "    :param filename 文件名称\n",
    "    :param section: 服务\n",
    "    :param option: 配置参数\n",
    "    :return:返回配置信息\n",
    "    \"\"\"\n",
    "    # print(configPath)\n",
    "\n",
    "    # 创建ConfigParser对象\n",
    "    conf = configparser.ConfigParser()\n",
    "\n",
    "    # 读取文件内容\n",
    "    conf.read('./config.ini',encoding='utf-8')\n",
    "    config = conf.get(section, option)\n",
    "    return config\n",
    "# 配置信息\n",
    "start = int(getConfig(\"gnn_spider\", \"start\"))\n",
    "end = int(getConfig(\"gnn_spider\", \"end\"))\n",
    "keyword = getConfig(\"gnn_spider\", \"keyword\")\n",
    "token = getConfig(\"gnn_spider\", \"token\")\n",
    "total_info_add = getConfig(\"gnn_spider\", \"address\")"
   ]
  },
  {
   "cell_type": "code",
   "execution_count": 16,
   "metadata": {},
   "outputs": [
    {
     "name": "stdout",
     "output_type": "stream",
     "text": [
      "0 100 运动 vlog uvaWoeqivoiA6me5 ./backup/total_record.xlsx\n"
     ]
    }
   ],
   "source": [
    "print(start,end,keyword,token,total_info_add)"
   ]
  },
  {
   "cell_type": "code",
   "execution_count": 18,
   "metadata": {},
   "outputs": [
    {
     "name": "stdout",
     "output_type": "stream",
     "text": [
      "0 40 运动 vlog uvaWoeqivoiA6me5 ./backup/total_record.xlsx\n"
     ]
    }
   ],
   "source": [
    "print(start,end,keyword,token,total_info_add)"
   ]
  },
  {
   "cell_type": "code",
   "execution_count": 13,
   "metadata": {},
   "outputs": [
    {
     "data": {
      "text/plain": [
       "100"
      ]
     },
     "execution_count": 13,
     "metadata": {},
     "output_type": "execute_result"
    }
   ],
   "source": [
    "end"
   ]
  },
  {
   "cell_type": "code",
   "execution_count": 10,
   "metadata": {},
   "outputs": [],
   "source": [
    "#写入模块\n",
    "from configparser import ConfigParser\n",
    "cp = ConfigParser()\n",
    "# 添加section\n",
    "cp.add_section('gnn_spider')  # 创建section db1\n",
    "cp.set('gnn_spider', 'address', './backup/total_record.xlsx')  # 添加 key1=value1 到 db1下\n",
    "cp.set('gnn_spider', 'token', 'uvaWoeqivoiA6me5')\n",
    "cp.set('gnn_spider', 'start', '0')\n",
    "cp.set('gnn_spider', 'end', '100')\n",
    "cp.set('gnn_spider', 'keyword', '运动 vlog')  # 添加 key4=value4 到 db2下\n",
    "cp.write(open('config1.ini', 'w'))   # 写入文件并保存"
   ]
  },
  {
   "cell_type": "code",
   "execution_count": null,
   "metadata": {},
   "outputs": [],
   "source": []
  }
 ],
 "metadata": {
  "kernelspec": {
   "display_name": "scrapy",
   "language": "python",
   "name": "python3"
  },
  "language_info": {
   "codemirror_mode": {
    "name": "ipython",
    "version": 3
   },
   "file_extension": ".py",
   "mimetype": "text/x-python",
   "name": "python",
   "nbconvert_exporter": "python",
   "pygments_lexer": "ipython3",
   "version": "3.7.13"
  },
  "orig_nbformat": 4,
  "vscode": {
   "interpreter": {
    "hash": "ad7a1fbfe381e46b0f3b9a820daa81600bcc600b342b498233523bb6680d89ae"
   }
  }
 },
 "nbformat": 4,
 "nbformat_minor": 2
}
