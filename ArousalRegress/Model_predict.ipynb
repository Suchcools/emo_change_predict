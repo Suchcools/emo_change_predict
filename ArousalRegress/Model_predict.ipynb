{
 "cells": [
  {
   "cell_type": "code",
   "execution_count": 1,
   "metadata": {},
   "outputs": [
    {
     "name": "stderr",
     "output_type": "stream",
     "text": [
      "/home/linjw/anaconda3/envs/scrapy/lib/python3.7/site-packages/tqdm/auto.py:22: TqdmWarning: IProgress not found. Please update jupyter and ipywidgets. See https://ipywidgets.readthedocs.io/en/stable/user_install.html\n",
      "  from .autonotebook import tqdm as notebook_tqdm\n"
     ]
    }
   ],
   "source": [
    "# coding: UTF-8\n",
    "import time\n",
    "import torch\n",
    "import numpy as np\n",
    "import torch.utils.data as Data\n",
    "from torch.utils.data import SubsetRandomSampler\n",
    "import librosa\n",
    "import matplotlib\n",
    "import numpy as np\n",
    "import matplotlib.pyplot as plt\n",
    "from scipy.fft import fft\n",
    "import warnings\n",
    "warnings.filterwarnings(\"ignore\")\n",
    "import librosa.display\n",
    "from train_eval import train, init_network\n",
    "from importlib import import_module\n",
    "import argparse"
   ]
  },
  {
   "attachments": {},
   "cell_type": "markdown",
   "metadata": {},
   "source": [
    "### 导入训练好的模型"
   ]
  },
  {
   "cell_type": "code",
   "execution_count": 2,
   "metadata": {},
   "outputs": [],
   "source": [
    "model_name = \"TextCNN_custom\"\n",
    "x = import_module(f'models.{model_name}')\n",
    "config = x.Config()\n",
    "model = x.Model(config).to(config.device)\n",
    "model=torch.load('./model_backup/CNN_CCC_0.61/tmodel_0.pkl')"
   ]
  },
  {
   "attachments": {},
   "cell_type": "markdown",
   "metadata": {},
   "source": [
    "### 抽取wav音频文件"
   ]
  },
  {
   "cell_type": "code",
   "execution_count": 8,
   "metadata": {},
   "outputs": [
    {
     "name": "stdout",
     "output_type": "stream",
     "text": [
      "MoviePy - Writing audio in ./result/test.wav\n"
     ]
    },
    {
     "name": "stderr",
     "output_type": "stream",
     "text": [
      "                                                                      "
     ]
    },
    {
     "name": "stdout",
     "output_type": "stream",
     "text": [
      "MoviePy - Done.\n"
     ]
    },
    {
     "name": "stderr",
     "output_type": "stream",
     "text": [
      "\r"
     ]
    }
   ],
   "source": [
    "from moviepy.editor import *\n",
    "video = VideoFileClip('/home/linjw/code2/gnn_study_crawler/Voice_arousal/movie.mp4')\n",
    "audio = video.audio\n",
    "audio.write_audiofile('./result/test.wav')\n",
    "# audio.write_audiofile('test.mp3')"
   ]
  },
  {
   "attachments": {},
   "cell_type": "markdown",
   "metadata": {},
   "source": [
    "### 输入数据处理"
   ]
  },
  {
   "cell_type": "code",
   "execution_count": 9,
   "metadata": {},
   "outputs": [
    {
     "name": "stdout",
     "output_type": "stream",
     "text": [
      "(11, 100, 1600) (11, 1025, 313)\n"
     ]
    }
   ],
   "source": [
    "def get_waveform(x):\n",
    "    try:\n",
    "        # np.append(temp,np.array([[x.P]*1600]), axis = 0)\n",
    "        temp = x.reshape(100,1600)\n",
    "        mu = np.mean(temp, axis=0)\n",
    "        sigma = np.std(temp, axis=0)\n",
    "        return (temp - mu) / sigma\n",
    "    except:\n",
    "        return None\n",
    "def get_spectrogram(x):\n",
    "    try:\n",
    "        temp=librosa.amplitude_to_db(librosa.stft(x.flatten())).reshape(1025, 313)\n",
    "        mu = np.mean(temp, axis=0)\n",
    "        sigma = np.std(temp, axis=0)\n",
    "        return (temp - mu) / sigma\n",
    "    except:\n",
    "        return None\n",
    "\n",
    "samples, sr = librosa.load('./result/test.wav', sr=16000)\n",
    "step = 160000\n",
    "wave_data = [samples[i:i+step] for i in range(0,len(samples),step)]\n",
    "wave_data[-1] = samples[-step:]\n",
    "wave_data = np.array([get_waveform(x) for x in wave_data])\n",
    "spect_data = np.array([get_spectrogram(x) for x in wave_data])\n",
    "print(wave_data.shape,spect_data.shape)"
   ]
  },
  {
   "cell_type": "code",
   "execution_count": 10,
   "metadata": {},
   "outputs": [],
   "source": [
    "class MyDataSet(Data.Dataset):\n",
    "\n",
    "    def __init__(self):\n",
    "        self.x = wave_data,spect_data\n",
    "\n",
    "    def __getitem__(self, index):\n",
    "        return self.x[0][index],self.x[1][index],0\n",
    "\n",
    "    def __len__(self):\n",
    "        return len(self.x[0])\n",
    "data=MyDataSet()"
   ]
  },
  {
   "cell_type": "code",
   "execution_count": 11,
   "metadata": {},
   "outputs": [],
   "source": [
    "dev_iter = Data.DataLoader(data, batch_size=1000, shuffle=False)"
   ]
  },
  {
   "cell_type": "code",
   "execution_count": 12,
   "metadata": {},
   "outputs": [
    {
     "data": {
      "text/plain": [
       "-0.4143091831356287"
      ]
     },
     "execution_count": 12,
     "metadata": {},
     "output_type": "execute_result"
    }
   ],
   "source": [
    "## 模型预测\n",
    "model.eval()\n",
    "alist=[]\n",
    "for trains1,trains2, labels in dev_iter:\n",
    "    trains1, trains12, labels = trains1.cuda().float(),trains2.cuda().float(), labels.float().cuda()\n",
    "    outputs = model(trains1,trains12)  # 10,73->10,5\n",
    "    alist=list(outputs.flatten().cpu().detach().numpy())\n",
    "    olist=[np.expm1(x) for x in list(outputs.flatten().cpu().detach().numpy())]\n",
    "sum(olist)/len(olist)"
   ]
  },
  {
   "cell_type": "code",
   "execution_count": null,
   "metadata": {},
   "outputs": [],
   "source": []
  },
  {
   "cell_type": "code",
   "execution_count": null,
   "metadata": {},
   "outputs": [],
   "source": []
  },
  {
   "cell_type": "code",
   "execution_count": 8,
   "metadata": {},
   "outputs": [
    {
     "ename": "FileNotFoundError",
     "evalue": "[Errno 2] No such file or directory: './ArousalRegress/model_backup/CNN_CCC_0.61/tmodel_0.pkl'",
     "output_type": "error",
     "traceback": [
      "\u001b[0;31m---------------------------------------------------------------------------\u001b[0m",
      "\u001b[0;31mFileNotFoundError\u001b[0m                         Traceback (most recent call last)",
      "\u001b[0;32m/tmp/ipykernel_2834002/1751594223.py\u001b[0m in \u001b[0;36m<module>\u001b[0;34m\u001b[0m\n\u001b[1;32m     18\u001b[0m \u001b[0mdevice\u001b[0m \u001b[0;34m=\u001b[0m \u001b[0mtorch\u001b[0m\u001b[0;34m.\u001b[0m\u001b[0mdevice\u001b[0m\u001b[0;34m(\u001b[0m\u001b[0;34m\"cpu\"\u001b[0m\u001b[0;34m)\u001b[0m\u001b[0;34m\u001b[0m\u001b[0;34m\u001b[0m\u001b[0m\n\u001b[1;32m     19\u001b[0m \u001b[0mmodel\u001b[0m \u001b[0;34m=\u001b[0m \u001b[0mx\u001b[0m\u001b[0;34m.\u001b[0m\u001b[0mModel\u001b[0m\u001b[0;34m(\u001b[0m\u001b[0mconfig\u001b[0m\u001b[0;34m)\u001b[0m\u001b[0;34m.\u001b[0m\u001b[0mto\u001b[0m\u001b[0;34m(\u001b[0m\u001b[0mdevice\u001b[0m\u001b[0;34m)\u001b[0m\u001b[0;34m\u001b[0m\u001b[0;34m\u001b[0m\u001b[0m\n\u001b[0;32m---> 20\u001b[0;31m \u001b[0mmodel\u001b[0m  \u001b[0;34m=\u001b[0m\u001b[0mtorch\u001b[0m\u001b[0;34m.\u001b[0m\u001b[0mload\u001b[0m\u001b[0;34m(\u001b[0m\u001b[0;34m'./ArousalRegress/model_backup/CNN_CCC_0.61/tmodel_0.pkl'\u001b[0m\u001b[0;34m)\u001b[0m\u001b[0;34m.\u001b[0m\u001b[0mto\u001b[0m\u001b[0;34m(\u001b[0m\u001b[0mdevice\u001b[0m\u001b[0;34m)\u001b[0m\u001b[0;34m\u001b[0m\u001b[0;34m\u001b[0m\u001b[0m\n\u001b[0m\u001b[1;32m     21\u001b[0m \u001b[0;34m\u001b[0m\u001b[0m\n\u001b[1;32m     22\u001b[0m \u001b[0;32mdef\u001b[0m \u001b[0mget_waveform\u001b[0m\u001b[0;34m(\u001b[0m\u001b[0mx\u001b[0m\u001b[0;34m)\u001b[0m\u001b[0;34m:\u001b[0m\u001b[0;34m\u001b[0m\u001b[0;34m\u001b[0m\u001b[0m\n",
      "\u001b[0;32m~/anaconda3/envs/scrapy/lib/python3.7/site-packages/torch/serialization.py\u001b[0m in \u001b[0;36mload\u001b[0;34m(f, map_location, pickle_module, **pickle_load_args)\u001b[0m\n\u001b[1;32m    592\u001b[0m         \u001b[0mpickle_load_args\u001b[0m\u001b[0;34m[\u001b[0m\u001b[0;34m'encoding'\u001b[0m\u001b[0;34m]\u001b[0m \u001b[0;34m=\u001b[0m \u001b[0;34m'utf-8'\u001b[0m\u001b[0;34m\u001b[0m\u001b[0;34m\u001b[0m\u001b[0m\n\u001b[1;32m    593\u001b[0m \u001b[0;34m\u001b[0m\u001b[0m\n\u001b[0;32m--> 594\u001b[0;31m     \u001b[0;32mwith\u001b[0m \u001b[0m_open_file_like\u001b[0m\u001b[0;34m(\u001b[0m\u001b[0mf\u001b[0m\u001b[0;34m,\u001b[0m \u001b[0;34m'rb'\u001b[0m\u001b[0;34m)\u001b[0m \u001b[0;32mas\u001b[0m \u001b[0mopened_file\u001b[0m\u001b[0;34m:\u001b[0m\u001b[0;34m\u001b[0m\u001b[0;34m\u001b[0m\u001b[0m\n\u001b[0m\u001b[1;32m    595\u001b[0m         \u001b[0;32mif\u001b[0m \u001b[0m_is_zipfile\u001b[0m\u001b[0;34m(\u001b[0m\u001b[0mopened_file\u001b[0m\u001b[0;34m)\u001b[0m\u001b[0;34m:\u001b[0m\u001b[0;34m\u001b[0m\u001b[0;34m\u001b[0m\u001b[0m\n\u001b[1;32m    596\u001b[0m             \u001b[0;31m# The zipfile reader is going to advance the current file position.\u001b[0m\u001b[0;34m\u001b[0m\u001b[0;34m\u001b[0m\u001b[0;34m\u001b[0m\u001b[0m\n",
      "\u001b[0;32m~/anaconda3/envs/scrapy/lib/python3.7/site-packages/torch/serialization.py\u001b[0m in \u001b[0;36m_open_file_like\u001b[0;34m(name_or_buffer, mode)\u001b[0m\n\u001b[1;32m    228\u001b[0m \u001b[0;32mdef\u001b[0m \u001b[0m_open_file_like\u001b[0m\u001b[0;34m(\u001b[0m\u001b[0mname_or_buffer\u001b[0m\u001b[0;34m,\u001b[0m \u001b[0mmode\u001b[0m\u001b[0;34m)\u001b[0m\u001b[0;34m:\u001b[0m\u001b[0;34m\u001b[0m\u001b[0;34m\u001b[0m\u001b[0m\n\u001b[1;32m    229\u001b[0m     \u001b[0;32mif\u001b[0m \u001b[0m_is_path\u001b[0m\u001b[0;34m(\u001b[0m\u001b[0mname_or_buffer\u001b[0m\u001b[0;34m)\u001b[0m\u001b[0;34m:\u001b[0m\u001b[0;34m\u001b[0m\u001b[0;34m\u001b[0m\u001b[0m\n\u001b[0;32m--> 230\u001b[0;31m         \u001b[0;32mreturn\u001b[0m \u001b[0m_open_file\u001b[0m\u001b[0;34m(\u001b[0m\u001b[0mname_or_buffer\u001b[0m\u001b[0;34m,\u001b[0m \u001b[0mmode\u001b[0m\u001b[0;34m)\u001b[0m\u001b[0;34m\u001b[0m\u001b[0;34m\u001b[0m\u001b[0m\n\u001b[0m\u001b[1;32m    231\u001b[0m     \u001b[0;32melse\u001b[0m\u001b[0;34m:\u001b[0m\u001b[0;34m\u001b[0m\u001b[0;34m\u001b[0m\u001b[0m\n\u001b[1;32m    232\u001b[0m         \u001b[0;32mif\u001b[0m \u001b[0;34m'w'\u001b[0m \u001b[0;32min\u001b[0m \u001b[0mmode\u001b[0m\u001b[0;34m:\u001b[0m\u001b[0;34m\u001b[0m\u001b[0;34m\u001b[0m\u001b[0m\n",
      "\u001b[0;32m~/anaconda3/envs/scrapy/lib/python3.7/site-packages/torch/serialization.py\u001b[0m in \u001b[0;36m__init__\u001b[0;34m(self, name, mode)\u001b[0m\n\u001b[1;32m    209\u001b[0m \u001b[0;32mclass\u001b[0m \u001b[0m_open_file\u001b[0m\u001b[0;34m(\u001b[0m\u001b[0m_opener\u001b[0m\u001b[0;34m)\u001b[0m\u001b[0;34m:\u001b[0m\u001b[0;34m\u001b[0m\u001b[0;34m\u001b[0m\u001b[0m\n\u001b[1;32m    210\u001b[0m     \u001b[0;32mdef\u001b[0m \u001b[0m__init__\u001b[0m\u001b[0;34m(\u001b[0m\u001b[0mself\u001b[0m\u001b[0;34m,\u001b[0m \u001b[0mname\u001b[0m\u001b[0;34m,\u001b[0m \u001b[0mmode\u001b[0m\u001b[0;34m)\u001b[0m\u001b[0;34m:\u001b[0m\u001b[0;34m\u001b[0m\u001b[0;34m\u001b[0m\u001b[0m\n\u001b[0;32m--> 211\u001b[0;31m         \u001b[0msuper\u001b[0m\u001b[0;34m(\u001b[0m\u001b[0m_open_file\u001b[0m\u001b[0;34m,\u001b[0m \u001b[0mself\u001b[0m\u001b[0;34m)\u001b[0m\u001b[0;34m.\u001b[0m\u001b[0m__init__\u001b[0m\u001b[0;34m(\u001b[0m\u001b[0mopen\u001b[0m\u001b[0;34m(\u001b[0m\u001b[0mname\u001b[0m\u001b[0;34m,\u001b[0m \u001b[0mmode\u001b[0m\u001b[0;34m)\u001b[0m\u001b[0;34m)\u001b[0m\u001b[0;34m\u001b[0m\u001b[0;34m\u001b[0m\u001b[0m\n\u001b[0m\u001b[1;32m    212\u001b[0m \u001b[0;34m\u001b[0m\u001b[0m\n\u001b[1;32m    213\u001b[0m     \u001b[0;32mdef\u001b[0m \u001b[0m__exit__\u001b[0m\u001b[0;34m(\u001b[0m\u001b[0mself\u001b[0m\u001b[0;34m,\u001b[0m \u001b[0;34m*\u001b[0m\u001b[0margs\u001b[0m\u001b[0;34m)\u001b[0m\u001b[0;34m:\u001b[0m\u001b[0;34m\u001b[0m\u001b[0;34m\u001b[0m\u001b[0m\n",
      "\u001b[0;31mFileNotFoundError\u001b[0m: [Errno 2] No such file or directory: './ArousalRegress/model_backup/CNN_CCC_0.61/tmodel_0.pkl'"
     ]
    }
   ],
   "source": [
    "# coding: UTF-8\n",
    "import torch\n",
    "import numpy as np\n",
    "import torch.utils.data as Data\n",
    "import librosa\n",
    "import numpy as np\n",
    "from scipy.fft import fft\n",
    "import warnings\n",
    "import pandas as pd\n",
    "warnings.filterwarnings(\"ignore\")\n",
    "import librosa.display\n",
    "from moviepy.editor import *\n",
    "from importlib import import_module\n",
    "model_name = \"TextCNN_custom\"\n",
    "\n",
    "\n",
    "x = import_module(f'models.{model_name}')\n",
    "config = x.Config()\n",
    "device = torch.device(\"cpu\")\n",
    "model = x.Model(config).to(device)\n",
    "model  =torch.load('./ArousalRegress/model_backup/CNN_CCC_0.61/tmodel_0.pkl').to(device)\n",
    "\n",
    "def get_waveform(x):\n",
    "    try:\n",
    "        # np.append(temp,np.array([[x.P]*1600]), axis = 0)\n",
    "        temp = x.reshape(100,1600)\n",
    "        mu = np.mean(temp, axis=0)\n",
    "        sigma = np.std(temp, axis=0)\n",
    "        return (temp - mu) / sigma\n",
    "    except:\n",
    "        return None\n",
    "def get_spectrogram(x):\n",
    "    try:\n",
    "        temp=librosa.amplitude_to_db(librosa.stft(x.flatten())).reshape(1025, 313)\n",
    "        mu = np.mean(temp, axis=0)\n",
    "        sigma = np.std(temp, axis=0)\n",
    "        return (temp - mu) / sigma\n",
    "    except:\n",
    "        return None\n",
    "\n",
    "class MyDataSet(Data.Dataset):\n",
    "\n",
    "    def __init__(self,wave_data,spect_data):\n",
    "        self.x = wave_data,spect_data\n",
    "\n",
    "    def __getitem__(self, index):\n",
    "        return self.x[0][index],self.x[1][index],0\n",
    "\n",
    "    def __len__(self):\n",
    "        return len(self.x[0])\n"
   ]
  },
  {
   "cell_type": "code",
   "execution_count": null,
   "metadata": {},
   "outputs": [],
   "source": [
    "rawdata=pd.read_excel('/home/linjw/code2/gnn_study_crawler/backup/variation_record.xlsx',dtype=str)\n",
    "rawdata=rawdata.drop_duplicates(subset='aweme_id').head(5)\n",
    "def get_arousal(id):\n",
    "    video = VideoFileClip(f'./video/{id}.mp4')\n",
    "    audio = video.audio\n",
    "    audio.write_audiofile(f'./voice/test{id}.wav')\n",
    "    samples, sr = librosa.load(f'./voice/test{id}.wav', sr=16000)\n",
    "    step = 160000\n",
    "    wave_data = [samples[i:i+step] for i in range(0,len(samples),step)]\n",
    "    wave_data[-1] = samples[-step:]\n",
    "    wave_data = np.array([get_waveform(x) for x in wave_data])\n",
    "    spect_data = np.array([get_spectrogram(x) for x in wave_data])\n",
    "    print(wave_data.shape,spect_data.shape)\n",
    "\n",
    "    data=MyDataSet(wave_data,spect_data)\n",
    "    dev_iter = Data.DataLoader(data, batch_size=1000, shuffle=False)\n",
    "    ## 模型预测\n",
    "    model.eval()\n",
    "    alist=[]\n",
    "    for trains1,trains2, labels in dev_iter:\n",
    "        trains1, trains12, labels = trains1.float(),trains2.float(), labels.float()\n",
    "        outputs = model(trains1,trains12)  # 10,73->10,5\n",
    "        alist=list(outputs.flatten().detach().numpy())\n",
    "        olist=[np.expm1(x) for x in list(outputs.flatten().detach().numpy())]\n",
    "    print(sum(olist)/len(olist))\n",
    "rawdata.rawdata.apply(get_arousal)"
   ]
  }
 ],
 "metadata": {
  "kernelspec": {
   "display_name": "scrapy",
   "language": "python",
   "name": "python3"
  },
  "language_info": {
   "codemirror_mode": {
    "name": "ipython",
    "version": 3
   },
   "file_extension": ".py",
   "mimetype": "text/x-python",
   "name": "python",
   "nbconvert_exporter": "python",
   "pygments_lexer": "ipython3",
   "version": "3.7.13"
  },
  "orig_nbformat": 4,
  "vscode": {
   "interpreter": {
    "hash": "ad7a1fbfe381e46b0f3b9a820daa81600bcc600b342b498233523bb6680d89ae"
   }
  }
 },
 "nbformat": 4,
 "nbformat_minor": 2
}
