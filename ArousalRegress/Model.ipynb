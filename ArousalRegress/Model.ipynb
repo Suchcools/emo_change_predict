{
 "cells": [
  {
   "cell_type": "code",
   "execution_count": 95,
   "metadata": {},
   "outputs": [],
   "source": [
    "import torch\n",
    "import torch.nn as nn\n",
    "import torch.nn.functional as F\n",
    "\n",
    "\n",
    "class Config(object):\n",
    "    def __init__(self):\n",
    "        self.num_classes = 1\n",
    "        self.device = torch.device(\n",
    "            'cuda' if torch.cuda.is_available() else 'cpu')   # 设备\n",
    "        self.model_name = 'TextCNN_custom'\n",
    "        self.num_epochs = 50 \n",
    "        self.batch_size = 64\n",
    "        self.pad_size = 100\n",
    "        self.learning_rate = 1e-3\n",
    "        self.embed = 1600\n",
    "        # LSTM parameters\n",
    "        self.dropout_LSTM = 0\n",
    "        self.hidden_size = 256\n",
    "        self.num_layers = 1\n",
    "        # CNN parameters\n",
    "        self.dropout_CNN = 0.2\n",
    "        self.filter_sizes = (4, 80, 80)\n",
    "        self.num_filters = 40\n",
    "\n",
    "\n",
    "import torch\n",
    "import torch.nn as nn\n",
    "import torch.nn.functional as F\n",
    "\n",
    "\n",
    "class Config(object):\n",
    "    def __init__(self):\n",
    "        self.num_classes = 1\n",
    "        self.device = torch.device(\n",
    "            'cuda' if torch.cuda.is_available() else 'cpu')   # 设备\n",
    "        self.model_name = 'TextCNN_custom'\n",
    "        self.num_epochs = 50 \n",
    "        self.batch_size = 64\n",
    "        self.pad_size = 100\n",
    "        self.learning_rate = 0.0001\n",
    "        self.embed = 1600\n",
    "        # LSTM parameters\n",
    "        self.dropout_LSTM = 0\n",
    "        self.hidden_size = 256\n",
    "        self.num_layers = 1\n",
    "        # CNN parameters\n",
    "        self.dropout_CNN = 0.2\n",
    "        self.filter_sizes = (4, 80, 80)\n",
    "        self.num_filters = 40\n",
    "\n",
    "\n",
    "class Model(nn.Module):\n",
    "    def __init__(self, config):\n",
    "        super(Model, self).__init__()\n",
    "        self.conv1 = nn.Sequential(\n",
    "            nn.Conv2d(1, 8, kernel_size=(10, 10), stride=(1, 1), padding=1),\n",
    "            nn.ReLU(inplace=True),\n",
    "            nn.MaxPool2d(kernel_size=2, stride=2)\n",
    "        )\n",
    "        self.conv2 = nn.Sequential(\n",
    "            nn.Conv2d(8, 20, kernel_size=(10, 10), stride=(1, 1), padding=1),\n",
    "            nn.ReLU(inplace=True),\n",
    "            nn.MaxPool2d(kernel_size=2, stride=2)\n",
    "        )\n",
    "\n",
    "        self.conv3 = nn.Sequential(\n",
    "            nn.Conv2d(1, 8, kernel_size=(10, 10), stride=(1, 1), padding=1),\n",
    "            nn.ReLU(inplace=True),\n",
    "            nn.MaxPool2d(kernel_size=2, stride=2)\n",
    "        )\n",
    "        self.conv4 = nn.Sequential(\n",
    "            nn.Conv2d(8, 20, kernel_size=(10, 10), stride=(1, 1), padding=1),\n",
    "            nn.ReLU(inplace=True),\n",
    "            nn.MaxPool2d(kernel_size=2, stride=2)\n",
    "        )\n",
    "        # 全连接层\n",
    "        self.dense1 = nn.Sequential(\n",
    "            nn.Linear(149720,2000),\n",
    "            nn.ReLU(),\n",
    "            nn.Dropout(p=0.35),  \n",
    "            nn.Linear(2000, 1)\n",
    "        )\n",
    "                # 全连接层\n",
    "        self.dense2 = nn.Sequential(\n",
    "            nn.Linear(366460,2000),\n",
    "            nn.ReLU(),\n",
    "            nn.Dropout(p=0.35),  # 缓解过拟合，一定程度上正则化\n",
    "            nn.Linear(2000, 1)\n",
    "        )\n",
    "\n",
    "\n",
    "    def forward(self, x1,x2):\n",
    "        x1 = self.conv1(x1.reshape(-1,1,100,1600))\n",
    "        x1 = self.conv2(x1)\n",
    "        x1 = x1.view(x1.size(0), -1)  # flatten张量铺平，便于全连接层的接收\n",
    "        x1 = self.dense1(x1)\n",
    "\n",
    "        x2 = self.conv3(x2.reshape(-1,1,1025,313))\n",
    "        x2 = self.conv4(x2)\n",
    "        x2 = x2.view(x2.size(0), -1)  # flatten张量铺平，便于全连接层的接收\n",
    "        x2 = self.dense2(x2)\n",
    "        \n",
    "        return x1\n"
   ]
  },
  {
   "cell_type": "code",
   "execution_count": 96,
   "metadata": {},
   "outputs": [
    {
     "name": "stdout",
     "output_type": "stream",
     "text": [
      "torch.Size([5, 366460])\n"
     ]
    },
    {
     "data": {
      "text/plain": [
       "tensor([[ 0.2122],\n",
       "        [ 0.1979],\n",
       "        [-0.0296],\n",
       "        [ 0.2484],\n",
       "        [ 0.1276]], grad_fn=<AddmmBackward>)"
      ]
     },
     "execution_count": 96,
     "metadata": {},
     "output_type": "execute_result"
    }
   ],
   "source": [
    "model=Model(Config())\n",
    "model(torch.randn(5,100,1600),torch.randn(5,1025,313))"
   ]
  },
  {
   "cell_type": "code",
   "execution_count": 103,
   "metadata": {},
   "outputs": [
    {
     "data": {
      "text/plain": [
       "tensor([[ 0.0163,  1.8714],\n",
       "        [ 0.7790, -1.3389],\n",
       "        [ 0.3294, -0.0763],\n",
       "        [ 0.8354, -0.4016],\n",
       "        [-1.0968, -0.2621]])"
      ]
     },
     "execution_count": 103,
     "metadata": {},
     "output_type": "execute_result"
    }
   ],
   "source": [
    "torch.cat([torch.randn(5,1),torch.randn(5,1)],axis=1)"
   ]
  },
  {
   "cell_type": "code",
   "execution_count": 105,
   "metadata": {},
   "outputs": [],
   "source": [
    "a=nn.Linear(2,1)"
   ]
  },
  {
   "cell_type": "code",
   "execution_count": 106,
   "metadata": {},
   "outputs": [
    {
     "data": {
      "text/plain": [
       "tensor([[ 0.1947],\n",
       "        [ 0.0609],\n",
       "        [-0.4920],\n",
       "        [ 0.2361],\n",
       "        [-0.1462]], grad_fn=<AddmmBackward>)"
      ]
     },
     "execution_count": 106,
     "metadata": {},
     "output_type": "execute_result"
    }
   ],
   "source": [
    "a(torch.cat([torch.randn(5,1),torch.randn(5,1)],axis=1))"
   ]
  },
  {
   "cell_type": "code",
   "execution_count": null,
   "metadata": {},
   "outputs": [],
   "source": []
  }
 ],
 "metadata": {
  "kernelspec": {
   "display_name": "pytorch",
   "language": "python",
   "name": "python3"
  },
  "language_info": {
   "codemirror_mode": {
    "name": "ipython",
    "version": 3
   },
   "file_extension": ".py",
   "mimetype": "text/x-python",
   "name": "python",
   "nbconvert_exporter": "python",
   "pygments_lexer": "ipython3",
   "version": "3.9.12 (main, Apr  5 2022, 06:56:58) \n[GCC 7.5.0]"
  },
  "orig_nbformat": 4,
  "vscode": {
   "interpreter": {
    "hash": "aabe4efdc9c8cd640545c2a8ac4eeda015fa1672ae90987a58879df6203e1d70"
   }
  }
 },
 "nbformat": 4,
 "nbformat_minor": 2
}
