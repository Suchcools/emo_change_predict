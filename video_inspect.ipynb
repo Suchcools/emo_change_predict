{
 "cells": [
  {
   "cell_type": "code",
   "execution_count": 2,
   "metadata": {},
   "outputs": [
    {
     "name": "stderr",
     "output_type": "stream",
     "text": [
      "2022-12-30 14:25:22.623 | ERROR    | units:down_from_url:55 - ./video/7172859683391261989.mp4 download failed\n",
      "2022-12-30 14:25:22.627 | ERROR    | units:down_from_url:55 - ./video/7149119924470910222.mp4 download failed\n",
      "2022-12-30 14:25:22.629 | ERROR    | units:down_from_url:55 - ./video/7094590055985007904.mp4 download failed\n",
      "2022-12-30 14:25:22.632 | ERROR    | units:down_from_url:55 - ./video/7074121926976736547.mp4 download failed\n",
      "2022-12-30 14:25:22.635 | ERROR    | units:down_from_url:55 - ./video/7176236508649721091.mp4 download failed\n",
      "2022-12-30 14:25:22.638 | ERROR    | units:down_from_url:55 - ./video/7075313280675269896.mp4 download failed\n",
      "2022-12-30 14:25:22.640 | ERROR    | units:down_from_url:55 - ./video/7037687810643545375.mp4 download failed\n",
      "2022-12-30 14:25:22.643 | ERROR    | units:down_from_url:55 - ./video/7029617592419536141.mp4 download failed\n",
      "2022-12-30 14:25:22.645 | ERROR    | units:down_from_url:55 - ./video/7176212962951105849.mp4 download failed\n",
      "2022-12-30 14:25:22.648 | ERROR    | units:down_from_url:55 - ./video/7152817007405042985.mp4 download failed\n",
      "2022-12-30 14:25:22.650 | ERROR    | units:down_from_url:55 - ./video/7022137209058823432.mp4 download failed\n",
      "2022-12-30 14:25:22.653 | ERROR    | units:down_from_url:55 - ./video/7014840893341453580.mp4 download failed\n",
      "2022-12-30 14:25:22.656 | ERROR    | units:down_from_url:55 - ./video/7031118368933547275.mp4 download failed\n",
      "2022-12-30 14:25:22.659 | ERROR    | units:down_from_url:55 - ./video/7127210145498582272.mp4 download failed\n",
      "2022-12-30 14:25:22.662 | ERROR    | units:down_from_url:55 - ./video/7176583026112056614.mp4 download failed\n",
      "2022-12-30 14:25:22.664 | ERROR    | units:down_from_url:55 - ./video/7151304384217976105.mp4 download failed\n",
      "2022-12-30 14:25:22.666 | ERROR    | units:down_from_url:55 - ./video/7004014284896292130.mp4 download failed\n",
      "2022-12-30 14:25:22.669 | ERROR    | units:down_from_url:55 - ./video/7063405114605735207.mp4 download failed\n"
     ]
    },
    {
     "data": {
      "text/plain": [
       "0     None\n",
       "1     None\n",
       "2     None\n",
       "3     None\n",
       "4     None\n",
       "5     None\n",
       "6     None\n",
       "7     None\n",
       "8     None\n",
       "9     None\n",
       "10    None\n",
       "11    None\n",
       "12    None\n",
       "13    None\n",
       "14    None\n",
       "15    None\n",
       "16    None\n",
       "17    None\n",
       "dtype: object"
      ]
     },
     "execution_count": 2,
     "metadata": {},
     "output_type": "execute_result"
    }
   ],
   "source": [
    "from loguru import logger\n",
    "import requests\n",
    "import pandas as pd\n",
    "import json\n",
    "from units import download_by_addr,getConfig\n",
    "# logger.add('./log/VideoInspect.log')\n",
    "info=pd.read_excel('info/search_运动 vlog.xlsx')\n",
    "info.apply(lambda x:download_by_addr('./video/'+str(x.aweme_id),x.play_addr,logger),axis=1)"
   ]
  },
  {
   "cell_type": "code",
   "execution_count": 2,
   "metadata": {},
   "outputs": [],
   "source": [
    "from units import download_by_addr,getConfig"
   ]
  },
  {
   "cell_type": "code",
   "execution_count": 7,
   "metadata": {},
   "outputs": [
    {
     "name": "stdout",
     "output_type": "stream",
     "text": [
      "1 2 运动 vlog\n"
     ]
    }
   ],
   "source": [
    "# 获取gnn_spider配置信息\n",
    "start = int(getConfig( 'gnn_spider', 'start'))\n",
    "end = int(getConfig( 'gnn_spider', 'end'))\n",
    "kerword = getConfig('gnn_spider', 'keyword')\n",
    "print(start, end, kerword)"
   ]
  }
 ],
 "metadata": {
  "kernelspec": {
   "display_name": "scrapy",
   "language": "python",
   "name": "python3"
  },
  "language_info": {
   "codemirror_mode": {
    "name": "ipython",
    "version": 3
   },
   "file_extension": ".py",
   "mimetype": "text/x-python",
   "name": "python",
   "nbconvert_exporter": "python",
   "pygments_lexer": "ipython3",
   "version": "3.7.13 (default, Mar 29 2022, 02:18:16) \n[GCC 7.5.0]"
  },
  "vscode": {
   "interpreter": {
    "hash": "ad7a1fbfe381e46b0f3b9a820daa81600bcc600b342b498233523bb6680d89ae"
   }
  }
 },
 "nbformat": 4,
 "nbformat_minor": 4
}
