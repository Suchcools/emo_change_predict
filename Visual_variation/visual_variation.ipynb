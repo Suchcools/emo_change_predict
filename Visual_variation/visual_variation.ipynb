{
 "cells": [
  {
   "attachments": {},
   "cell_type": "markdown",
   "metadata": {},
   "source": [
    "### 按帧将视频切分成图片"
   ]
  },
  {
   "cell_type": "code",
   "execution_count": 43,
   "metadata": {},
   "outputs": [
    {
     "name": "stdout",
     "output_type": "stream",
     "text": [
      "Save Success\n"
     ]
    }
   ],
   "source": [
    "import os\n",
    "import cv2\n",
    "import numpy as np\n",
    "import matplotlib.pyplot as plt\n",
    "# 定义保存图片函数\n",
    "# image:要保存的图片\n",
    "# pic_address：图片保存地址\n",
    "# num: 图片后缀名，用于区分图片，int 类型\n",
    "\n",
    "# 视频文件和图片保存地址\n",
    "SAMPLE_VIDEO = './data/movie.mp4'\n",
    "SAVE_PATH = './result/images/'\n",
    "\n",
    "def normalization(data):\n",
    "    _range = np.max(data) - np.min(data)\n",
    "    return (data - np.min(data)) / _range\n",
    "def normalize(arr):\n",
    "    rng = arr.max()-arr.min()\n",
    "    amin = arr.min()\n",
    "    return (arr-amin)*255/rng\n",
    "def save_image(image, address, num):\n",
    "    pic_address = address + str(num) + '.jpg'\n",
    "    imGray=cv2.cvtColor(image, cv2.COLOR_BGR2GRAY)\n",
    "    image=normalization(imGray)\n",
    "    cv2.imwrite(pic_address, imGray)\n",
    "\n",
    "def split_list_n_list(origin_list, n):\n",
    "    if len(origin_list) % n == 0:\n",
    "        cnt = len(origin_list) // n\n",
    "    else:\n",
    "        cnt = len(origin_list) // n + 1\n",
    " \n",
    "    for i in range(0, n):\n",
    "        yield origin_list[i*cnt:(i+1)*cnt][0]\n",
    "\n",
    "def video_to_pic(video_path, save_path):\n",
    "    # 读取视频文件\n",
    "    frame_count = 0\n",
    "    frame_record = []\n",
    "    videoCapture = cv2.VideoCapture(video_path)\n",
    "    # 读帧\n",
    "    success, frame = videoCapture.read()\n",
    "    frame_address=[]\n",
    "    while success:\n",
    "        frame_count = frame_count + 1\n",
    "        # 每隔固定帧保存一张图片\n",
    "        frame_record.append(frame)\n",
    "        success, frame = videoCapture.read()\n",
    "    frame_record=list(split_list_n_list(frame_record, 10))\n",
    "    for i in range(len(frame_record)):\n",
    "        save_image(frame_record[i], save_path, i)\n",
    "        frame_address.append(f\"{save_path}{i}.jpg\")\n",
    "    print('Save Success')\n",
    "    return frame_address\n",
    "\n",
    "if not os.path.exists(SAVE_PATH):\n",
    "    os.makedirs(SAVE_PATH)\n",
    "frame_address=video_to_pic(SAMPLE_VIDEO, SAVE_PATH)"
   ]
  },
  {
   "attachments": {},
   "cell_type": "markdown",
   "metadata": {},
   "source": [
    "### 计算Manhattan norm"
   ]
  },
  {
   "cell_type": "code",
   "execution_count": 44,
   "metadata": {},
   "outputs": [
    {
     "name": "stdout",
     "output_type": "stream",
     "text": [
      "Manhattan norm: 0.30087379418258714\n"
     ]
    }
   ],
   "source": [
    "from scipy.linalg import norm\n",
    "def compare_images(img1, img2):\n",
    "    # normalize to compensate for exposure difference, this may be unnecessary\n",
    "    img1 = normalize(img1)\n",
    "    img2 = normalize(img2)\n",
    "    # calculate the difference and its norms\n",
    "    diff = img1 - img2  # elementwise for scipy arrays\n",
    "    m_norm = np.sum(abs(diff))  # Manhattan norm\n",
    "    return m_norm\n",
    "# read images as 2D arrays (convert to grayscale for simplicity)\n",
    "img1 = cv2.imread('./result/images/1.jpg',0)\n",
    "img2 = cv2.imread('./result/images/2.jpg',0)\n",
    "# compare\n",
    "n_m = compare_images(img1, img2)\n",
    "print (\"Manhattan norm:\", n_m/img1.size)"
   ]
  },
  {
   "attachments": {},
   "cell_type": "markdown",
   "metadata": {},
   "source": [
    "### 计算Visual Variation"
   ]
  },
  {
   "cell_type": "code",
   "execution_count": 45,
   "metadata": {},
   "outputs": [
    {
     "name": "stdout",
     "output_type": "stream",
     "text": [
      "Visual Variation: 0.2697731264068646\n"
     ]
    }
   ],
   "source": [
    "total_manhattan_norm=0\n",
    "frame_nums=len(frame_address)\n",
    "last_frame=[]\n",
    "for i in range(frame_nums):\n",
    "    # read images as 2D arrays (convert to grayscale for simplicity)\n",
    "    if i==0:\n",
    "        last_frame = cv2.imread(frame_address[0],0)\n",
    "        continue\n",
    "    img = cv2.imread(frame_address[i],0)\n",
    "    # compare\n",
    "    total_manhattan_norm += compare_images(last_frame, img)/img.size\n",
    "    last_frame=img\n",
    "print (\"Visual Variation:\", total_manhattan_norm/frame_nums)"
   ]
  },
  {
   "cell_type": "code",
   "execution_count": null,
   "metadata": {},
   "outputs": [],
   "source": []
  },
  {
   "cell_type": "code",
   "execution_count": 48,
   "metadata": {},
   "outputs": [
    {
     "name": "stdout",
     "output_type": "stream",
     "text": [
      "Save Success\n",
      "Visual Variation: 0.26991686481961197\n"
     ]
    }
   ],
   "source": [
    "import os\n",
    "import cv2\n",
    "import numpy as np\n",
    "import matplotlib.pyplot as plt\n",
    "# 定义保存图片函数\n",
    "# image:要保存的图片\n",
    "# pic_address：图片保存地址\n",
    "# num: 图片后缀名，用于区分图片，int 类型\n",
    "\n",
    "# 视频文件和图片保存地址\n",
    "SAMPLE_VIDEO = './data/movie.mp4'\n",
    "\n",
    "def compare_images(img1, img2):\n",
    "    # normalize to compensate for exposure difference, this may be unnecessary\n",
    "    img1 = normalize(img1)\n",
    "    img2 = normalize(img2)\n",
    "    # calculate the difference and its norms\n",
    "    diff = img1 - img2  # elementwise for scipy arrays\n",
    "    m_norm = np.sum(abs(diff))  # Manhattan norm\n",
    "    return m_norm\n",
    "def normalization(data):\n",
    "    _range = np.max(data) - np.min(data)\n",
    "    return (data - np.min(data)) / _range\n",
    "def normalize(arr):\n",
    "    rng = arr.max()-arr.min()\n",
    "    amin = arr.min()\n",
    "    return (arr-amin)*255/rng\n",
    "def split_list_n_list(origin_list, n):\n",
    "    if len(origin_list) % n == 0:\n",
    "        cnt = len(origin_list) // n\n",
    "    else:\n",
    "        cnt = len(origin_list) // n + 1\n",
    " \n",
    "    for i in range(0, n):\n",
    "        yield origin_list[i*cnt:(i+1)*cnt][0]\n",
    "\n",
    "def video_to_pic(video_path):\n",
    "    # 读取视频文件\n",
    "    frame_count = 0\n",
    "    frame_record = []\n",
    "    videoCapture = cv2.VideoCapture(video_path)\n",
    "    # 读帧\n",
    "    success, frame = videoCapture.read()\n",
    "    while success:\n",
    "        frame_count = frame_count + 1\n",
    "        # 每隔固定帧保存一张图片\n",
    "        frame_record.append(frame)\n",
    "        success, frame = videoCapture.read()\n",
    "    frame_record=list(split_list_n_list(frame_record, 10))\n",
    "    frame_record=[cv2.cvtColor(x, cv2.COLOR_BGR2GRAY) for x in frame_record]\n",
    "    print('Save Success')\n",
    "    return frame_record\n",
    "\n",
    "\n",
    "\n",
    "frame_record=video_to_pic(SAMPLE_VIDEO)\n",
    "\n",
    "total_manhattan_norm=0\n",
    "frame_nums=len(frame_record)\n",
    "last_frame=[]\n",
    "for i in range(frame_nums):\n",
    "    # read images as 2D arrays (convert to grayscale for simplicity)\n",
    "    if i==0:\n",
    "        last_frame = frame_record[0]\n",
    "        continue\n",
    "    img = frame_record[i]\n",
    "    # compare\n",
    "    total_manhattan_norm += compare_images(last_frame, img)/img.size\n",
    "    last_frame=img\n",
    "print (\"Visual Variation:\", total_manhattan_norm/frame_nums)"
   ]
  }
 ],
 "metadata": {
  "kernelspec": {
   "display_name": "pytorch",
   "language": "python",
   "name": "python3"
  },
  "language_info": {
   "codemirror_mode": {
    "name": "ipython",
    "version": 3
   },
   "file_extension": ".py",
   "mimetype": "text/x-python",
   "name": "python",
   "nbconvert_exporter": "python",
   "pygments_lexer": "ipython3",
   "version": "3.9.12"
  },
  "orig_nbformat": 4,
  "vscode": {
   "interpreter": {
    "hash": "aabe4efdc9c8cd640545c2a8ac4eeda015fa1672ae90987a58879df6203e1d70"
   }
  }
 },
 "nbformat": 4,
 "nbformat_minor": 2
}
